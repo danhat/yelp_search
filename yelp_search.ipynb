{
 "cells": [
  {
   "cell_type": "markdown",
   "metadata": {},
   "source": [
    "# Yelp Search\n",
    "(Fetching and displaying yelp data)\n",
    "\n",
    "#### Web Scraping\n",
    "* Using HTTP to fetch the content of a website\n",
    "* HTTP Requests (and lifecycle)\n",
    "* RESTful APIs\n",
    "  * Authentication (OAuth)\n",
    "  * Pagination\n",
    "  * Rate limiting\n",
    "* JSON vs. HTML (and how to parse each)\n",
    "* HTML traversal (CSS selectors)\n",
    "\n",
    "#### Data Collection & Data Processing\n",
    "* Slicing data frames\n",
    "* Filtering data\n",
    "* Grouped counts\n",
    "* Joining two tables\n",
    "* NA/Null values\n",
    "\n",
    "#### Library Documentation\n",
    "Documentation for the Python packages used:\n",
    "* Standard Library: \n",
    "  * [io](https://docs.python.org/2/library/io.html)\n",
    "  * [time](https://docs.python.org/2/library/time.html)\n",
    "  * [json](https://docs.python.org/2/library/json.html)\n",
    "* Third Party\n",
    "  * [requests](http://docs.python-requests.org/en/master/)\n",
    "  * [Beautiful Soup (version 4)](https://www.crummy.com/software/BeautifulSoup/bs4/doc/)\n",
    "  * [yelp-fusion](https://www.yelp.com/developers/documentation/v3/get_started)"
   ]
  },
  {
   "cell_type": "markdown",
   "metadata": {},
   "source": [
    "### 1. Import needed libraries"
   ]
  },
  {
   "cell_type": "code",
   "execution_count": 1,
   "metadata": {},
   "outputs": [],
   "source": [
    "import time, json, requests\n",
    "from bs4 import BeautifulSoup"
   ]
  },
  {
   "cell_type": "markdown",
   "metadata": {},
   "source": [
    "### 2. Download and return the raw HTML content of a URL\n",
    "`retrieve_html`: download and return raw HTML content of url passed as an argument\n",
    "* args: \n",
    "  * url (string)\n",
    "* returns:\n",
    "  * status_code (integer):\n",
    "  * raw_html (string): the raw html content of the response, properly encoded according to the http headers"
   ]
  },
  {
   "cell_type": "code",
   "execution_count": 2,
   "metadata": {},
   "outputs": [],
   "source": [
    "\"\"\"\n",
    "  Return the raw HTML at the specified URL.\n",
    "\n",
    "  Args:\n",
    "    url (string): URL to get html code from\n",
    "\n",
    "  Returns:\n",
    "    status_code (integer): status of the request (200: successful, 404: not found)\n",
    "    raw_html (string): the raw HTML content of the response, properly encoded according to the HTTP headers.\n",
    "\"\"\"\n",
    "def retrieve_html(url):\n",
    "  response = requests.get(url)\n",
    "  status_code = response.status_code\n",
    "  raw_html = response.text\n",
    "  return status_code, raw_html"
   ]
  },
  {
   "cell_type": "markdown",
   "metadata": {},
   "source": [
    "Test `retrieve_html`:"
   ]
  },
  {
   "cell_type": "code",
   "execution_count": 3,
   "metadata": {},
   "outputs": [
    {
     "name": "stdout",
     "output_type": "stream",
     "text": [
      "200\n",
      "<!DOCTYPE html>\n",
      "<html lang=\"en\" class=\"story\"  xmlns:og=\"http://opengraphprotocol.org/schema/\">\n",
      "  <head>\n",
      "    <title data-rh=\"true\">YouTube’s Product Chief on Online Radicalization and Algorithmic Rabbit Holes - The New York Times</title>\n",
      "    <meta data-rh=\"true\" property=\"article:published_time\" content=\"2019-03-29T15:40:56.000Z\"/><meta data-rh=\"true\" property=\"article:modified_time\" content=\"2019-04-01T02:48:25.343Z\"/><meta data-rh=\"true\" http-equiv=\"Content-Language\" content=\"en\"/><meta data-r\n"
     ]
    }
   ],
   "source": [
    "youtube_article = retrieve_html('https://www.nytimes.com/2019/03/29/technology/youtube-online-extremism.html')\n",
    "print(youtube_article[0])\n",
    "print(youtube_article[1][:500])\n",
    "# (200, '<!DOCTYPE html>\\n<html lang=\"en\" class=\"story\" xmlns:og=\"http://opengraphprotocol.org/schema/\">\\n  <head>\\n    <title data-rh=\"true\">YouTube’s ...)"
   ]
  },
  {
   "cell_type": "markdown",
   "metadata": {},
   "source": [
    "### 3. Store Yelp API key locally and read in API key to authenticate"
   ]
  },
  {
   "cell_type": "code",
   "execution_count": 3,
   "metadata": {},
   "outputs": [],
   "source": [
    "with open('yelp_api_key.txt', 'r') as f:\n",
    "  api_key = f.read().replace('\\n','')"
   ]
  },
  {
   "cell_type": "markdown",
   "metadata": {},
   "source": [
    "### 4. Make an authenticated request to the search endpoint\n",
    "`api_get_request`: send an HTTP GET request and return a json response"
   ]
  },
  {
   "cell_type": "code",
   "execution_count": 6,
   "metadata": {},
   "outputs": [],
   "source": [
    "\"\"\"\n",
    "  Send a HTTP GET request and return a json response\n",
    "\n",
    "  Args:\n",
    "    url (string): API endpoint url\n",
    "    headers (dict): A python dictionary containing HTTP headers including authentication to be sent\n",
    "    url_params (dict): The parameters (required and optional) supported by endpoint\n",
    "\n",
    "  Returns:\n",
    "    content_json (dictionary): response from request as dictionary\n",
    "\"\"\"\n",
    "def api_get_request(url, headers, url_params):\n",
    "  http_method = 'GET'\n",
    "  # send request and store results (Response object) in response\n",
    "  response = requests.get(url, params = url_params, headers = headers)\n",
    "  # get response as dictionary\n",
    "  content_json = response.json()\n",
    "  return content_json"
   ]
  },
  {
   "cell_type": "markdown",
   "metadata": {},
   "source": [
    "### 5. Get paramerters needed for sending an HTTP get request\n",
    "`location_search_params`: construct url, headers, and url parameters"
   ]
  },
  {
   "cell_type": "code",
   "execution_count": 7,
   "metadata": {},
   "outputs": [],
   "source": [
    "\"\"\"\n",
    "  Get and return parameters needed for sending an HTTP GET requests\n",
    "\n",
    "  Args:\n",
    "    url_addition(string): ending of Yelp API endpoint URL\n",
    "    api_key(string): Yelp API key for authentication\n",
    "    **kwargs: additional arguments needed pulling data from api\n",
    "\n",
    "  Returns:\n",
    "    (list): list of tuple\n",
    "      url(string): API endpoint URL\n",
    "      headers(dict): headers needed for accessing the Yelp API\n",
    "      url_params(dict): other parameters needing for getting data (such as location, restaurant name, etc.)\n",
    "\"\"\"\n",
    "def get_url_params(url_addition, api_key, **kwargs):\n",
    "  # url endpoint for search + url addition (for search all businesses, search reviews of certain business, etc)\n",
    "  url = 'https://api.yelp.com/v3/businesses' + url_addition\n",
    "\n",
    "  # authentication\n",
    "  headers = {'Authorization': f\"Bearer {api_key}\"}\n",
    "\n",
    "  url_params = {}\n",
    "\n",
    "  # include keyword arguments in url_params\n",
    "  if kwargs is not None:\n",
    "    for key, value in kwargs.items():\n",
    "      url_params[f'{key}'] = value\n",
    "\n",
    "  return url, headers, url_params"
   ]
  },
  {
   "cell_type": "markdown",
   "metadata": {},
   "source": [
    "### 6.\n",
    "`yelp_search`: get 20 bussinessed in the given location"
   ]
  },
  {
   "cell_type": "code",
   "execution_count": 8,
   "metadata": {},
   "outputs": [],
   "source": [
    "\"\"\"\n",
    "  Get at most 20 businesses based on location.\n",
    "\n",
    "  Args:\n",
    "    api_key (string): Yelp API key for authentication\n",
    "    location (string): business Location\n",
    "    offset (int): parameter for pagination\n",
    "\n",
    "  Returns:\n",
    "    total (integer): total number of businesses on Yelp corresponding to the location\n",
    "    businesses (list): list representing each business\n",
    "\"\"\"\n",
    "def yelp_search(api_key, location, offset = 0):\n",
    "  # get url, headers, and URL parameters for request\n",
    "  url, headers, url_params = get_url_params('/search', api_key, location = location, offset = offset)\n",
    "\n",
    "  # send request and get results as a dictionary\n",
    "  response_json = api_get_request(url, headers, url_params)\n",
    "  return response_json[\"total\"], list(response_json[\"businesses\"])\n"
   ]
  },
  {
   "cell_type": "markdown",
   "metadata": {},
   "source": [
    "test `yelp_search`:"
   ]
  },
  {
   "cell_type": "code",
   "execution_count": 9,
   "metadata": {},
   "outputs": [
    {
     "name": "stdout",
     "output_type": "stream",
     "text": [
      "8500\n",
      "20\n",
      "['Girl & The Goat', 'Wildberry Pancakes and Cafe', 'Au Cheval', 'The Purple Pig', \"Lou Malnati's Pizzeria\", 'Art Institute of Chicago', 'Smoque BBQ', 'Cafe Ba-Ba-Reeba!', \"Bavette's Bar & Boeuf\", 'Little Goat', 'Alinea', \"Kuma's Corner - Belmont\", 'Quartino Ristorante', \"Pequod's Pizzeria\", \"Portillo's Hot Dogs\", \"Joe's Seafood, Prime Steak & Stone Crab\", 'Crisp', 'Xoco', 'Sapori Trattoria', \"Molly's Cupcakes\"]\n"
     ]
    }
   ],
   "source": [
    "\n",
    "api_key = read_api_key('yelp_api_key.txt')\n",
    "num_records, data = yelp_search(api_key, 'Chicago')\n",
    "print(num_records)\n",
    "#8500\n",
    "print(len(data))\n",
    "#20\n",
    "print(list(map(lambda x: x['name'], data)))\n",
    "#['Girl & the Goat', 'Wildberry Pancakes and Cafe', 'Au Cheval', 'The Purple Pig', 'Art Institute of Chicago', 'Smoque BBQ', \"Lou Malnati's Pizzeria\", 'Alinea', \"Kuma's Corner - Belmont\", 'Little Goat Diner', \"Bavette's Bar & Boeuf\", 'Cafe Ba-Ba-Reeba!', \"Portillo's Hot Dogs\", 'Quartino Ristorante', \"Pequod's Pizzeria\", 'Crisp', \"Joe's Seafood, Prime Steak & Stone Crab\", 'Xoco', \"Molly's Cupcakes\", 'Millennium Park']"
   ]
  },
  {
   "cell_type": "markdown",
   "metadata": {},
   "source": [
    "### 7.\n",
    "`paginated_restaurant_search_requests`: returns a list of tuples for paginated search of all restaurants\n"
   ]
  },
  {
   "cell_type": "code",
   "execution_count": 10,
   "metadata": {},
   "outputs": [],
   "source": [
    "\"\"\"\n",
    "  Returns a list of tuples (url, headers, url_params) for paginated search of all restaurants.\n",
    "  Paginated to stop timeout due to too many Yelp API requests.\n",
    "\n",
    "  Args:\n",
    "    api_key (string): Yelp API key for authentication\n",
    "    location (string): Business Location\n",
    "    total (int): Total number of items to be fetched\n",
    "\n",
    "  Returns:\n",
    "    results (list): list of tuple (url, headers, url_params)\n",
    "\"\"\"\n",
    "def paginated_restaurant_search_requests(api_key, location, total):\n",
    "  pages = [] # add result to pages\n",
    "\n",
    "  current_offset = 0\n",
    "  while current_offset < total:\n",
    "    url, headers, url_params = get_url_params('/search', api_key, location, offset = current_offset, limit = 20, categories = \"restaurants\")\n",
    "    pages.append((url, headers, url_params))\n",
    "    current_offset = current_offset + 20\n",
    "    # slight pause to stop too many requests to Yelp API\n",
    "    time.sleep(.3)\n",
    "\n",
    "  return pages\n"
   ]
  },
  {
   "cell_type": "markdown",
   "metadata": {},
   "source": [
    "### 8.\n",
    "`all_restaurants`: construct the pagination requests for all the restaurants on yelp for a location"
   ]
  },
  {
   "cell_type": "code",
   "execution_count": 11,
   "metadata": {},
   "outputs": [],
   "source": [
    "\"\"\"\n",
    "  Construct the pagination requests for ALL the restaurants on Yelp for a given location.\n",
    "\n",
    "  Args:\n",
    "    api_key (string): Yelp API key for authentication\n",
    "    location (string): Business Location\n",
    "\n",
    "  Returns:\n",
    "    results (list): list of dicts representing each restaurant in passed location\n",
    "\"\"\"\n",
    "def all_restaurants(api_key, loc):\n",
    "\n",
    "  # offset passed to get first page of restaurants in Yelp\n",
    "  url, headers, url_params = get_url_params('/search', api_key, location = loc, offset = 0)\n",
    "\n",
    "  # get results from request\n",
    "  content_json = api_get_request(url, headers, url_params)\n",
    "  total_items = content_json[\"total\"]\n",
    "  # get parameters needed to retrieve all restaurants in the given location\n",
    "  restaurant_pages = paginated_restaurant_search_requests(api_key, loc, total_items)\n",
    "\n",
    "  # use returned list of (url, headers, url_params) and function api_get_request to retrive all restaurants\n",
    "  result = []\n",
    "  for i in range(len(restaurant_pages)):\n",
    "    page = restaurant_pages[i]\n",
    "\n",
    "    url = page[0]\n",
    "    headers = page[1]\n",
    "    url_params = page[2]\n",
    "\n",
    "    # send request\n",
    "    content_json = api_get_request(url, headers, url_params)\n",
    "    page_data = content_json['businesses']\n",
    "\n",
    "    for j in range(len(page_data)):\n",
    "      result.append(page_data[j])\n",
    "\n",
    "    # pause slightly after each request to prevent timeout\n",
    "    time.sleep(.3)\n",
    "\n",
    "  return result"
   ]
  },
  {
   "cell_type": "markdown",
   "metadata": {},
   "source": []
  },
  {
   "cell_type": "code",
   "execution_count": 12,
   "metadata": {},
   "outputs": [
    {
     "name": "stdout",
     "output_type": "stream",
     "text": [
      "104\n",
      "['Greek Islands Restaurant', 'Meli Cafe & Juice Bar', 'Artopolis', 'Athena Greek Restaurant', 'Zeus Restaurant', 'Green Street Smoked Meats', 'Santorini', 'Mr Greek Gyros', \"Philly's Best\", 'Primos Chicago Pizza Pasta', 'Monteverde', 'J.P. Graziano Grocery', '9 Muses', 'Sepia', 'Sizzling Pot King', 'High Five Ramen', 'Dawali Jerusalem Kitchen', 'Green Street Local', 'Spectrum Bar and Grill', 'The Allis', \"Lou Mitchell's\", \"Nando's Peri-Peri\", 'Jubilee Juice & Grill', \"Formento's\", 'Taco Burrito King', 'Dine', 'Chicken & Farm Shop', 'H Mart - Chicago', 'The Madison Bar and Kitchen', 'Parlor Pizza Bar', 'Loop Juice', 'Blaze Pizza', 'M2 Cafe', 'Booze Box', 'El Che Steakhouse & Bar', 'Omakase Yume', 'Blackwood BBQ', 'Bandit', 'Morgan Street Cafe', \"Giordano's\", \"Nonna's Pizza & Sandwiches\", \"Vero's Caffe & Gelato\", 'Ciao! Cafe & Wine Lounge', 'Umami Burger - West Loop', 'Slightly Toasted', 'Sushi Pink', 'Rye Deli & Drink', 'Epic Burger', 'My Thai', 'Naansense', \"Hannah's Bretzel\", \"Nancy's Pizza\", 'Beggars Pizza', 'SGD Dubu So Gong Dong Tofu & Korean BBQ', 'Taco Lulú', 'Dylans Tavern & Grill', 'Trivoli Tavern', \"Wok N' Bao\", 'Naf Naf Grill', 'I Dream of Falafel', 'Oki Sushi', 'TenGoku Aburiya', \"Jimmy John's\", 'Stelios Bottles & Bites', 'Pockets', \"Jet's Pizza\", 'Yolk West Loop', 'Asadito', 'Klay Oven Kitchen', \"Bebe's Kosher Deli\", 'Freshii', \"Cafe L'ami\", 'K-Kitchen', 'Veggie Grill', 'Subway', 'Chipotle Mexican Grill', \"JoKeR's Cajun Kitchen\", 'Potbelly Sandwich Shop-Temporarily Offline', 'Corner Bakery', 'The Ruin Daily', \"Sang's Kitchen\", 'Potbelly Sandwich Shop', 'Five Guys', 'Izakaya yume', \"Domino's Pizza\", \"Jimmy John's\", 'Red Star Bar', 'Aodake Ramen', 'Great Steak', 'Downstate Donuts', 'Roti Modern Mediterranean', \"Sam's Crispy Chicken\", 'Krispy Rice', 'Burger King', 'Panera Bread', 'CLAUDIA', 'Hunan House', 'Baci Amore', 'West Loop Sushi', 'Spaketeria', 'Flik International', 'Cafe Italo', \"Harold's Chicken On Clinton\", 'Subway']\n"
     ]
    }
   ],
   "source": [
    "data = all_restaurants(api_key, 'Greektown, Chicago, IL')\n",
    "print(len(data))\n",
    "# 102\n",
    "print(list(map(lambda x:x['name'], data)))\n",
    "# ['Greek Islands Restaurant', 'Meli Cafe & Juice Bar', 'Artopolis', 'WJ Noodles', 'Athena Greek Restaurant', ...]"
   ]
  },
  {
   "cell_type": "markdown",
   "metadata": {},
   "source": [
    "### 9.\n",
    "`parse_api_response`: parse yelp api results to extract restaurant URLs"
   ]
  },
  {
   "cell_type": "code",
   "execution_count": null,
   "metadata": {},
   "outputs": [],
   "source": [
    "\"\"\"\n",
    "  Parse Yelp API results to extract restaurant URLs.\n",
    "\n",
    "  Args:\n",
    "    data (string): string of properly formatted JSON.\n",
    "\n",
    "  Returns:\n",
    "    (list): list of URLs as strings from the input JSON.\n",
    "\"\"\"\n",
    "\"\"\"\n",
    "  url, headers, url_params = location_search_params(api_key, \"Chicago\", offset=0)\n",
    "  response = requests.get(url, params = url_params, headers = headers)\n",
    "  response_json = response.json()\n",
    "  response_str = json.dumps(response_json)\n",
    "  parsed = parse_api_response(response_str)\n",
    "  print(parsed[1:5])\n",
    "\"\"\"\n",
    "def parse_api_response(data):\n",
    "\n",
    "  data_ = json.loads(data)\n",
    "  data_ = data_['businesses']\n",
    "\n",
    "  urls = []\n",
    "  for i in range(len(data_)):\n",
    "    temp = data_[i]\n",
    "    urls.append(temp['url'])\n",
    "\n",
    "  return urls"
   ]
  },
  {
   "cell_type": "markdown",
   "metadata": {},
   "source": [
    "test `parse_api_response`"
   ]
  },
  {
   "cell_type": "code",
   "execution_count": 14,
   "metadata": {},
   "outputs": [
    {
     "name": "stdout",
     "output_type": "stream",
     "text": [
      "['https://www.yelp.com/biz/wildberry-pancakes-and-cafe-chicago-2?adjust_creative=680Jc2E_i5DwGD1xYXozpg&utm_campaign=yelp_api_v3&utm_medium=api_v3_business_search&utm_source=680Jc2E_i5DwGD1xYXozpg', 'https://www.yelp.com/biz/au-cheval-chicago?adjust_creative=680Jc2E_i5DwGD1xYXozpg&utm_campaign=yelp_api_v3&utm_medium=api_v3_business_search&utm_source=680Jc2E_i5DwGD1xYXozpg', 'https://www.yelp.com/biz/the-purple-pig-chicago?adjust_creative=680Jc2E_i5DwGD1xYXozpg&utm_campaign=yelp_api_v3&utm_medium=api_v3_business_search&utm_source=680Jc2E_i5DwGD1xYXozpg', 'https://www.yelp.com/biz/lou-malnatis-pizzeria-chicago?adjust_creative=680Jc2E_i5DwGD1xYXozpg&utm_campaign=yelp_api_v3&utm_medium=api_v3_business_search&utm_source=680Jc2E_i5DwGD1xYXozpg']\n"
     ]
    }
   ],
   "source": [
    "url, headers, url_params = location_search_params(api_key, \"Chicago\", offset=0)\n",
    "response = requests.get(url, params = url_params, headers = headers)\n",
    "response_json = response.json()\n",
    "\n",
    "response_str = json.dumps(response_json)\n",
    "parsed = parse_api_response(response_str)\n",
    "print(parsed[1:5])\n",
    "# ['https://www.yelp.com/biz/girl-and-the-goat-chicago?adjust_creative=ioqEYAcUhZO272qCIvxcVA....',\n",
    "#  'https://www.yelp.com/biz/wildberry-pancakes-and-cafe-chicago-2?adjust_creative=ioqEYAcUhZO272qCIvxcVA...',..]"
   ]
  },
  {
   "cell_type": "markdown",
   "metadata": {},
   "source": [
    "### 10. Parse a Yelp restaurant Page using `BeautifulSoup`\n",
    "\n",
    "`parse_page`: parse the reviews on a single page of a restaurant\n",
    "* args:\n",
    "  * html (string): string of HTML corresponding to a yelp restaurant\n",
    "* returns:\n",
    "  * reviews_list (list): list of dicts corresponding to the extracted review info; review structure:\n",
    "    ```python\n",
    "    {\n",
    "      'author': str\n",
    "      'rating': float\n",
    "      'date': str ('yyyy-mm-dd')\n",
    "      'description': str\n",
    "    }\n",
    "    ```\n",
    "  * url_next (string): URL for the next page of reviews (or None if it is the last page)"
   ]
  },
  {
   "cell_type": "markdown",
   "metadata": {},
   "source": [
    "### 10. Get id of a business"
   ]
  },
  {
   "cell_type": "code",
   "execution_count": null,
   "metadata": {},
   "outputs": [],
   "source": [
    "\"\"\"\n",
    "  Get the ID of a business from the Yelp API (https://www.yelp.com/developers/documentation/v3/business_match)\n",
    "\n",
    "  Args:\n",
    "    api_key(string): Yelp API key for authentication\n",
    "    name(string): name of the business to access\n",
    "    address(string): address of the business to access (can be empty if business has no address)\n",
    "    city(string): city of the business to access\n",
    "    state(string): ISO 3166-2 state code of the wanted business\n",
    "    country(string): ISO 3166-1 alpha-2 country code of the wanted business\n",
    "\n",
    "  Return:\n",
    "    (string): business id\n",
    "    or None if there is a validation error\n",
    "\"\"\"\n",
    "def get_business_id(api_key, name, address, city, state, country):\n",
    "  url, headers, url_params = get_url_params('/matches', api_key, name = name, address1 = address, city = city, state = state, country = country)\n",
    "\n",
    "  response_json = api_get_request(url, headers, url_params)\n",
    "  \n",
    "  if 'error' in response_json:\n",
    "    print('error code:', (response_json['error'])['code'])\n",
    "    print('description:', (response_json['error'])['description'])\n",
    "    return None\n",
    "  \n",
    "  business = response_json['businesses']\n",
    "  return (business[0])['id']"
   ]
  },
  {
   "cell_type": "markdown",
   "metadata": {},
   "source": [
    "### 11. Extract Yelp reviews for a Single Restaurant"
   ]
  },
  {
   "cell_type": "code",
   "execution_count": null,
   "metadata": {},
   "outputs": [],
   "source": [
    "\"\"\"\n",
    "  Get three reviews from Yelp API\n",
    "\n",
    "  Args:\n",
    "    api_key(string): Yelp API key for authentication\n",
    "    name(string): name of the business to access\n",
    "    address(string): address of the business to access (can be empty if business has no address)\n",
    "    city(string): city of the business to access\n",
    "    state(string): ISO 3166-2 state code of the wanted business\n",
    "    country(string): ISO 3166-1 alpha-2 country code of the wanted business\n",
    "\n",
    "  Returns:\n",
    "    reviews(dict): reviews\n",
    "    total(int): total number of reviews\n",
    "    \n",
    "    or None if business is not found\n",
    "\"\"\"\n",
    "def extract_reviews(api_key, name, address, city, state, country):\n",
    "  business_id = get_business_id(api_key, name, address, city, state, country)\n",
    "  \n",
    "  if business_id == None:\n",
    "    print('business not found')\n",
    "    return None\n",
    "\n",
    "  # add business_id to endpoint\n",
    "  url_addition = '/' + business_id + '/reviews'\n",
    "  url, headers, url_params = get_url_params(url_addition, api_key)\n",
    "\n",
    "  response_json = api_get_request(url, headers, url_params)\n",
    "\n",
    "  reviews = response_json['reviews']\n",
    "  total = response_json['total']\n",
    "  return reviews, total"
   ]
  },
  {
   "cell_type": "markdown",
   "metadata": {},
   "source": [
    "Test `extract_reviews`:"
   ]
  },
  {
   "cell_type": "code",
   "execution_count": null,
   "metadata": {},
   "outputs": [],
   "source": [
    "reviews, total = extract_reviews(api_key, 'jibarito shop', '1646 W 18th St', 'Chicago', 'IL', 'US')\n",
    "print(len(reviews))"
   ]
  }
 ],
 "metadata": {
  "kernelspec": {
   "display_name": "Python 3",
   "language": "python",
   "name": "python3"
  },
  "language_info": {
   "codemirror_mode": {
    "name": "ipython",
    "version": 3
   },
   "file_extension": ".py",
   "mimetype": "text/x-python",
   "name": "python",
   "nbconvert_exporter": "python",
   "pygments_lexer": "ipython3",
   "version": "3.7.9"
  }
 },
 "nbformat": 4,
 "nbformat_minor": 4
}
